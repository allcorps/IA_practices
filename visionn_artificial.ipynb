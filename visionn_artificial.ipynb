{
  "nbformat": 4,
  "nbformat_minor": 0,
  "metadata": {
    "colab": {
      "name": "visionn_artificial.ipynb",
      "provenance": [],
      "collapsed_sections": [],
      "authorship_tag": "ABX9TyMH9KAcYP1/WHDP6cqPWCBo",
      "include_colab_link": true
    },
    "kernelspec": {
      "name": "python3",
      "display_name": "Python 3"
    },
    "language_info": {
      "name": "python"
    }
  },
  "cells": [
    {
      "cell_type": "markdown",
      "metadata": {
        "id": "view-in-github",
        "colab_type": "text"
      },
      "source": [
        "<a href=\"https://colab.research.google.com/github/allcorps/IA_practices/blob/main/visionn_artificial.ipynb\" target=\"_parent\"><img src=\"https://colab.research.google.com/assets/colab-badge.svg\" alt=\"Open In Colab\"/></a>"
      ]
    },
    {
      "cell_type": "markdown",
      "source": [
        "JNbook que utiliza un dataset de tensorflow con el fin de predecir que numero se esta ingresando"
      ],
      "metadata": {
        "id": "ooFf903rChFu"
      }
    },
    {
      "cell_type": "code",
      "execution_count": 1,
      "metadata": {
        "id": "wJZWO5dvA14g"
      },
      "outputs": [],
      "source": [
        "#imports\n",
        "from __future__ import absolute_import, division, print_function, unicode_literals\n",
        "\n",
        "import tensorflow as tf\n",
        "import tensorflow_datasets as tfds\n",
        "\n",
        "import math\n",
        "import numpy as np\n",
        "import matplotlib.pyplot as plt\n",
        "import logging"
      ]
    },
    {
      "cell_type": "code",
      "source": [
        "logger = tf.get_logger()\n",
        "logger.setLevel(logging.ERROR)"
      ],
      "metadata": {
        "id": "RY6-uj4eBaT3"
      },
      "execution_count": 2,
      "outputs": []
    },
    {
      "cell_type": "code",
      "source": [
        "#datos de libreria mnist de tensorflow\n",
        "\n",
        "dataset, metadata = tfds.load('mnist', as_supervised=True, with_info=True)\n",
        "train_dataset, test_dataset = dataset['train'], dataset['test']"
      ],
      "metadata": {
        "id": "hbbJ1ly2BvUd"
      },
      "execution_count": 6,
      "outputs": []
    },
    {
      "cell_type": "code",
      "source": [
        "# lista de posibles respuestas\n",
        "\n",
        "class_names = [\n",
        "               'cero', 'uno','dos','tres','cuatro','cinco','seis','siete','ocho','nueve'\n",
        "]"
      ],
      "metadata": {
        "id": "qptcojW0CV54"
      },
      "execution_count": 7,
      "outputs": []
    },
    {
      "cell_type": "code",
      "source": [
        "#variables de entrenamiento y prueba\n",
        "\n",
        "num_train_examples = metadata.splits['train'].num_examples\n",
        "num_test_examples = metadata.splits['test'].num_examples"
      ],
      "metadata": {
        "id": "N6JPvsMnDK1a"
      },
      "execution_count": 8,
      "outputs": []
    },
    {
      "cell_type": "code",
      "source": [
        "#funcion de normalizacion: Numeros de 0 a 255 , que sean de 0 a 1\n",
        "\n",
        "def normalize(images, labels):\n",
        "    images = tf.cast(images,tf.float32)\n",
        "    images /= 255\n",
        "    return images, labels\n",
        "    "
      ],
      "metadata": {
        "id": "3zWUUU3SDsGv"
      },
      "execution_count": 9,
      "outputs": []
    },
    {
      "cell_type": "code",
      "source": [
        "#llamar a la funcion de normalizacion en cada dato del set de datos\n",
        "\n",
        "train_dataset = train_dataset.map(normalize)\n",
        "test_dataset = test_dataset.map(normalize)   "
      ],
      "metadata": {
        "id": "P6GpO7ruESMI"
      },
      "execution_count": 10,
      "outputs": []
    },
    {
      "cell_type": "code",
      "source": [
        "#definir estructura de la red\n",
        "\n",
        "model = tf.keras.Sequential([\n",
        "                             tf.keras.layers.Flatten(input_shape=(28,28,1)),\n",
        "                             tf.keras.layers.Dense(64, activation=tf.nn.relu), #relu para capas ocultas\n",
        "                             tf.keras.layers.Dense(64, activation=tf.nn.relu),\n",
        "                             tf.keras.layers.Dense(10, activation=tf.nn.softmax) #softmax es para la capa de clasificacion\n",
        "])\n",
        "\n",
        "#compilar modelo con una funcion basica de costo\n",
        "\n",
        "model.compile(\n",
        "    optimizer='adam',\n",
        "    loss='sparse_categorical_crossentropy',\n",
        "    metrics=['accuracy']\n",
        ")"
      ],
      "metadata": {
        "id": "88qRo888EmUU"
      },
      "execution_count": 11,
      "outputs": []
    },
    {
      "cell_type": "code",
      "source": [
        "#aprendizaje por lotes de 32 cada lote\n",
        "\n",
        "BATCHSIZE = 32\n",
        "\n",
        "train_dataset = train_dataset.repeat().shuffle(num_train_examples).batch(BATCHSIZE)\n",
        "test_dataset = test_dataset.batch(BATCHSIZE)"
      ],
      "metadata": {
        "id": "ScQKJOpFF9ff"
      },
      "execution_count": 12,
      "outputs": []
    },
    {
      "cell_type": "code",
      "source": [
        "#entrenamiento\n",
        "\n",
        "model.fit(\n",
        "    train_dataset, epochs=5,\n",
        "    steps_per_epoch=math.ceil(num_train_examples/BATCHSIZE)\n",
        ")"
      ],
      "metadata": {
        "colab": {
          "base_uri": "https://localhost:8080/"
        },
        "id": "enxkz7TyGbhZ",
        "outputId": "84fe0580-3d18-45a7-8c4f-3aafb286c83a"
      },
      "execution_count": 13,
      "outputs": [
        {
          "output_type": "stream",
          "name": "stdout",
          "text": [
            "Epoch 1/5\n",
            "1875/1875 [==============================] - 11s 3ms/step - loss: 0.2604 - accuracy: 0.9249\n",
            "Epoch 2/5\n",
            "1875/1875 [==============================] - 5s 3ms/step - loss: 0.1186 - accuracy: 0.9644\n",
            "Epoch 3/5\n",
            "1875/1875 [==============================] - 5s 3ms/step - loss: 0.0837 - accuracy: 0.9748\n",
            "Epoch 4/5\n",
            "1875/1875 [==============================] - 5s 3ms/step - loss: 0.0668 - accuracy: 0.9794\n",
            "Epoch 5/5\n",
            "1875/1875 [==============================] - 6s 3ms/step - loss: 0.0568 - accuracy: 0.9819\n"
          ]
        },
        {
          "output_type": "execute_result",
          "data": {
            "text/plain": [
              "<keras.callbacks.History at 0x7f66d53ef490>"
            ]
          },
          "metadata": {},
          "execution_count": 13
        }
      ]
    },
    {
      "cell_type": "code",
      "source": [
        "#evaluacion de modelo con el dataset_test\n",
        "\n",
        "test_loss, test_accuracy = model.evaluate(\n",
        "    test_dataset, steps=math.ceil(num_test_examples/32) \n",
        ")\n",
        "\n",
        "print(\"Resultados: \", test_accuracy)\n"
      ],
      "metadata": {
        "colab": {
          "base_uri": "https://localhost:8080/"
        },
        "id": "JVwcRpW8G94t",
        "outputId": "6815be86-10a2-4cb0-91ff-16084431209b"
      },
      "execution_count": 14,
      "outputs": [
        {
          "output_type": "stream",
          "name": "stdout",
          "text": [
            "313/313 [==============================] - 1s 4ms/step - loss: 0.0971 - accuracy: 0.9688\n",
            "Resultados:  0.9688000082969666\n"
          ]
        }
      ]
    },
    {
      "cell_type": "code",
      "source": [
        "# ver resutlados de forma grafica\n",
        "\n",
        "\n",
        "for test_images, test_labels in test_dataset.take(1):\n",
        "    test_images = test_images.numpy()\n",
        "    test_labels = test_labels.numpy()\n",
        "    predictions = model.predict(test_images)\n",
        "\n",
        "def plot_image(i, predictions_array, true_labels, images):\n",
        "\tpredictions_array, true_label, img = predictions_array[i], true_labels[i], images[i]\n",
        "\tplt.grid(False)\n",
        "\tplt.xticks([])\n",
        "\tplt.yticks([])\n",
        "\n",
        "\tplt.imshow(img[...,0], cmap=plt.cm.binary)\n",
        "\n",
        "\tpredicted_label = np.argmax(predictions_array)\n",
        "\tif predicted_label == true_label:\n",
        "\t\tcolor = 'blue'\n",
        "\telse:\n",
        "\t\tcolor = 'red'\n",
        "\n",
        "\tplt.xlabel(\"Prediccion: {}\".format(class_names[predicted_label]), color=color)\n",
        " \n",
        "def plot_value_array(i, predictions_array, true_label):\n",
        "\tpredictions_array, true_label = predictions_array[i], true_label[i]\n",
        "\tplt.grid(False)\n",
        "\tplt.xticks([])\n",
        "\tplt.yticks([])\n",
        "\tthisplot = plt.bar(range(10), predictions_array, color=\"#888888\")\n",
        "\tplt.ylim([0,1])\n",
        "\tpredicted_label = np.argmax(predictions_array)\n",
        "\n",
        "\tthisplot[predicted_label].set_color('red')\n",
        "\tthisplot[true_label].set_color('blue')\n",
        "\n",
        "numrows=5\n",
        "numcols=3\n",
        "numimages = numrows*numcols\n",
        "\n",
        "plt.figure(figsize=(2*2*numcols, 2*numrows))\n",
        "for i in range(numimages):\n",
        "\tplt.subplot(numrows, 2*numcols, 2*i+1)\n",
        "\tplot_image(i, predictions, test_labels, test_images)\n",
        "\tplt.subplot(numrows, 2*numcols, 2*i+2)\n",
        "\tplot_value_array(i, predictions, test_labels)\n",
        "\n",
        "plt.show()"
      ],
      "metadata": {
        "colab": {
          "base_uri": "https://localhost:8080/",
          "height": 589
        },
        "id": "HpvPgWMhHupk",
        "outputId": "4b841820-97b8-4489-f741-83cc68cc0719"
      },
      "execution_count": 16,
      "outputs": [
        {
          "output_type": "display_data",
          "data": {
            "text/plain": [
              "<Figure size 864x720 with 30 Axes>"
            ],
            "image/png": "[encoded data removed]"
          },
          "metadata": {}
        }
      ]
    }
  ]
}