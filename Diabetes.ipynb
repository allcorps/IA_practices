{
  "nbformat": 4,
  "nbformat_minor": 0,
  "metadata": {
    "colab": {
      "name": "Diabetes.ipynb",
      "provenance": [],
      "collapsed_sections": [],
      "authorship_tag": "ABX9TyOvnvCijvPKbUTHXw0Hpp3V",
      "include_colab_link": true
    },
    "kernelspec": {
      "name": "python3",
      "display_name": "Python 3"
    },
    "language_info": {
      "name": "python"
    }
  },
  "cells": [
    {
      "cell_type": "markdown",
      "metadata": {
        "id": "view-in-github",
        "colab_type": "text"
      },
      "source": [
        "<a href=\"https://colab.research.google.com/github/allcorps/IA_practices/blob/main/Diabetes.ipynb\" target=\"_parent\"><img src=\"https://colab.research.google.com/assets/colab-badge.svg\" alt=\"Open In Colab\"/></a>"
      ]
    },
    {
      "cell_type": "markdown",
      "source": [
        "#Red neuronal de clasificacion \n",
        "Su finalidad es diagnosticar diabetes tomando como entrenamiento datos de pacientes que han tomado este diagnostico.\n"
      ],
      "metadata": {
        "id": "5k2KW0cPaEK7"
      }
    },
    {
      "cell_type": "code",
      "source": [
        "#importar CSV para entrenamiento\n",
        "\n",
        "#al ejecutar esta linea pedira el archivo csv, solo seleccionarlo y abrirlo\n",
        "from google.colab import files\n",
        "files.upload() "
      ],
      "metadata": {
        "colab": {
          "resources": {
            "http://localhost:8080/nbextensions/google.colab/files.js": {
              "data": "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",
              "ok": true,
              "headers": [
                [
                  "content-type",
                  "application/javascript"
                ]
              ],
              "status": 200,
              "status_text": ""
            }
          },
          "base_uri": "https://localhost:8080/",
          "height": 110
        },
        "id": "E1RgEbgKZnm3",
        "outputId": "2ddf24b4-f351-4516-f52c-5166ccb93717"
      },
      "execution_count": 1,
      "outputs": [
        {
          "output_type": "display_data",
          "data": {
            "text/plain": [
              "<IPython.core.display.HTML object>"
            ],
            "text/html": [
              "\n",
              "     <input type=\"file\" id=\"files-f2a86044-702d-43ca-aada-f494380353c2\" name=\"files[]\" multiple disabled\n",
              "        style=\"border:none\" />\n",
              "     <output id=\"result-f2a86044-702d-43ca-aada-f494380353c2\">\n",
              "      Upload widget is only available when the cell has been executed in the\n",
              "      current browser session. Please rerun this cell to enable.\n",
              "      </output>\n",
              "      <script src=\"/nbextensions/google.colab/files.js\"></script> "
            ]
          },
          "metadata": {}
        },
        {
          "output_type": "stream",
          "name": "stdout",
          "text": [
            "Saving diabetes.csv to diabetes (2).csv\n"
          ]
        },
      ]
    },
    {
      "cell_type": "code",
      "source": [
        "#validar el archivo\n",
        "\n",
        "import pandas as pd\n",
        "\n",
        "df = pd.read_csv(\"diabetes.csv\", header=None)\n",
        "df.head()"
      ],
      "metadata": {
        "colab": {
          "base_uri": "https://localhost:8080/",
          "height": 206
        },
        "id": "XyokS3O3cul-",
        "outputId": "e2e84520-28d1-49a1-a7b0-36ce0b5b3a5b"
      },
      "execution_count": 2,
      "outputs": [
        {
          "output_type": "execute_result",
          "data": {
            "text/plain": [
              "   0    1   2   3    4     5      6   7  8\n",
              "0  6  148  72  35    0  33.6  0.627  50  1\n",
              "1  1   85  66  29    0  26.6  0.351  31  0\n",
              "2  8  183  64   0    0  23.3  0.672  32  1\n",
              "3  1   89  66  23   94  28.1  0.167  21  0\n",
              "4  0  137  40  35  168  43.1  2.288  33  1"
            ],
            "text/html": [
              "\n",
              "  <div id=\"df-dc9196ba-75e5-4b05-aaca-219e08bd9a6f\">\n",
              "    <div class=\"colab-df-container\">\n",
              "      <div>\n",
              "<style scoped>\n",
              "    .dataframe tbody tr th:only-of-type {\n",
              "        vertical-align: middle;\n",
              "    }\n",
              "\n",
              "    .dataframe tbody tr th {\n",
              "        vertical-align: top;\n",
              "    }\n",
              "\n",
              "    .dataframe thead th {\n",
              "        text-align: right;\n",
              "    }\n",
              "</style>\n",
              "<table border=\"1\" class=\"dataframe\">\n",
              "  <thead>\n",
              "    <tr style=\"text-align: right;\">\n",
              "      <th></th>\n",
              "      <th>0</th>\n",
              "      <th>1</th>\n",
              "      <th>2</th>\n",
              "      <th>3</th>\n",
              "      <th>4</th>\n",
              "      <th>5</th>\n",
              "      <th>6</th>\n",
              "      <th>7</th>\n",
              "      <th>8</th>\n",
              "    </tr>\n",
              "  </thead>\n",
              "  <tbody>\n",
              "    <tr>\n",
              "      <th>0</th>\n",
              "      <td>6</td>\n",
              "      <td>148</td>\n",
              "      <td>72</td>\n",
              "      <td>35</td>\n",
              "      <td>0</td>\n",
              "      <td>33.6</td>\n",
              "      <td>0.627</td>\n",
              "      <td>50</td>\n",
              "      <td>1</td>\n",
              "    </tr>\n",
              "    <tr>\n",
              "      <th>1</th>\n",
              "      <td>1</td>\n",
              "      <td>85</td>\n",
              "      <td>66</td>\n",
              "      <td>29</td>\n",
              "      <td>0</td>\n",
              "      <td>26.6</td>\n",
              "      <td>0.351</td>\n",
              "      <td>31</td>\n",
              "      <td>0</td>\n",
              "    </tr>\n",
              "    <tr>\n",
              "      <th>2</th>\n",
              "      <td>8</td>\n",
              "      <td>183</td>\n",
              "      <td>64</td>\n",
              "      <td>0</td>\n",
              "      <td>0</td>\n",
              "      <td>23.3</td>\n",
              "      <td>0.672</td>\n",
              "      <td>32</td>\n",
              "      <td>1</td>\n",
              "    </tr>\n",
              "    <tr>\n",
              "      <th>3</th>\n",
              "      <td>1</td>\n",
              "      <td>89</td>\n",
              "      <td>66</td>\n",
              "      <td>23</td>\n",
              "      <td>94</td>\n",
              "      <td>28.1</td>\n",
              "      <td>0.167</td>\n",
              "      <td>21</td>\n",
              "      <td>0</td>\n",
              "    </tr>\n",
              "    <tr>\n",
              "      <th>4</th>\n",
              "      <td>0</td>\n",
              "      <td>137</td>\n",
              "      <td>40</td>\n",
              "      <td>35</td>\n",
              "      <td>168</td>\n",
              "      <td>43.1</td>\n",
              "      <td>2.288</td>\n",
              "      <td>33</td>\n",
              "      <td>1</td>\n",
              "    </tr>\n",
              "  </tbody>\n",
              "</table>\n",
              "</div>\n",
              "      <button class=\"colab-df-convert\" onclick=\"convertToInteractive('df-dc9196ba-75e5-4b05-aaca-219e08bd9a6f')\"\n",
              "              title=\"Convert this dataframe to an interactive table.\"\n",
              "              style=\"display:none;\">\n",
              "        \n",
              "  <svg xmlns=\"http://www.w3.org/2000/svg\" height=\"24px\"viewBox=\"0 0 24 24\"\n",
              "       width=\"24px\">\n",
              "    <path d=\"M0 0h24v24H0V0z\" fill=\"none\"/>\n",
              "    <path d=\"M18.56 5.44l.94 2.06.94-2.06 2.06-.94-2.06-.94-.94-2.06-.94 2.06-2.06.94zm-11 1L8.5 8.5l.94-2.06 2.06-.94-2.06-.94L8.5 2.5l-.94 2.06-2.06.94zm10 10l.94 2.06.94-2.06 2.06-.94-2.06-.94-.94-2.06-.94 2.06-2.06.94z\"/><path d=\"M17.41 7.96l-1.37-1.37c-.4-.4-.92-.59-1.43-.59-.52 0-1.04.2-1.43.59L10.3 9.45l-7.72 7.72c-.78.78-.78 2.05 0 2.83L4 21.41c.39.39.9.59 1.41.59.51 0 1.02-.2 1.41-.59l7.78-7.78 2.81-2.81c.8-.78.8-2.07 0-2.86zM5.41 20L4 18.59l7.72-7.72 1.47 1.35L5.41 20z\"/>\n",
              "  </svg>\n",
              "      </button>\n",
              "      \n",
              "  <style>\n",
              "    .colab-df-container {\n",
              "      display:flex;\n",
              "      flex-wrap:wrap;\n",
              "      gap: 12px;\n",
              "    }\n",
              "\n",
              "    .colab-df-convert {\n",
              "      background-color: #E8F0FE;\n",
              "      border: none;\n",
              "      border-radius: 50%;\n",
              "      cursor: pointer;\n",
              "      display: none;\n",
              "      fill: #1967D2;\n",
              "      height: 32px;\n",
              "      padding: 0 0 0 0;\n",
              "      width: 32px;\n",
              "    }\n",
              "\n",
              "    .colab-df-convert:hover {\n",
              "      background-color: #E2EBFA;\n",
              "      box-shadow: 0px 1px 2px rgba(60, 64, 67, 0.3), 0px 1px 3px 1px rgba(60, 64, 67, 0.15);\n",
              "      fill: #174EA6;\n",
              "    }\n",
              "\n",
              "    [theme=dark] .colab-df-convert {\n",
              "      background-color: #3B4455;\n",
              "      fill: #D2E3FC;\n",
              "    }\n",
              "\n",
              "    [theme=dark] .colab-df-convert:hover {\n",
              "      background-color: #434B5C;\n",
              "      box-shadow: 0px 1px 3px 1px rgba(0, 0, 0, 0.15);\n",
              "      filter: drop-shadow(0px 1px 2px rgba(0, 0, 0, 0.3));\n",
              "      fill: #FFFFFF;\n",
              "    }\n",
              "  </style>\n",
              "\n",
              "      <script>\n",
              "        const buttonEl =\n",
              "          document.querySelector('#df-dc9196ba-75e5-4b05-aaca-219e08bd9a6f button.colab-df-convert');\n",
              "        buttonEl.style.display =\n",
              "          google.colab.kernel.accessAllowed ? 'block' : 'none';\n",
              "\n",
              "        async function convertToInteractive(key) {\n",
              "          const element = document.querySelector('#df-dc9196ba-75e5-4b05-aaca-219e08bd9a6f');\n",
              "          const dataTable =\n",
              "            await google.colab.kernel.invokeFunction('convertToInteractive',\n",
              "                                                     [key], {});\n",
              "          if (!dataTable) return;\n",
              "\n",
              "          const docLinkHtml = 'Like what you see? Visit the ' +\n",
              "            '<a target=\"_blank\" href=https://colab.research.google.com/notebooks/data_table.ipynb>data table notebook</a>'\n",
              "            + ' to learn more about interactive tables.';\n",
              "          element.innerHTML = '';\n",
              "          dataTable['output_type'] = 'display_data';\n",
              "          await google.colab.output.renderOutput(dataTable, element);\n",
              "          const docLink = document.createElement('div');\n",
              "          docLink.innerHTML = docLinkHtml;\n",
              "          element.appendChild(docLink);\n",
              "        }\n",
              "      </script>\n",
              "    </div>\n",
              "  </div>\n",
              "  "
            ]
          },
          "metadata": {},
          "execution_count": 2
        }
      ]
    },
    {
      "cell_type": "code",
      "source": [
        "#Importar resto de librerias\n",
        "\n",
        "#Graficas\n",
        "import matplotlib.pyplot as plt\n",
        "\n",
        "# Red neuronal secuencial\n",
        "from tensorflow.keras.models import Sequential\n",
        "# Capa completamente conectada\n",
        "from tensorflow.keras.layers import Dense\n",
        "# Optimizador\n",
        "from tensorflow.keras.optimizers import Adam"
      ],
      "metadata": {
        "id": "J1m6x2vEdMWL"
      },
      "execution_count": 3,
      "outputs": []
    },
    {
      "cell_type": "code",
      "source": [
        "#Dividir Imputs / Outputs\n",
        "X = df.iloc[:,0:8]\n",
        "y = df.iloc[:,8]"
      ],
      "metadata": {
        "id": "5MXtj-GvdWr2"
      },
      "execution_count": 4,
      "outputs": []
    },
    {
      "cell_type": "code",
      "source": [
        "#validar X\n",
        "X.shape"
      ],
      "metadata": {
        "colab": {
          "base_uri": "https://localhost:8080/"
        },
        "id": "3w1I33FeeN1o",
        "outputId": "74c57d6a-95da-41d4-8f9d-085a7e4c2e8f"
      },
      "execution_count": 5,
      "outputs": [
        {
          "output_type": "execute_result",
          "data": {
            "text/plain": [
              "(768, 8)"
            ]
          },
          "metadata": {},
          "execution_count": 5
        }
      ]
    },
    {
      "cell_type": "code",
      "source": [
        "#Crear red neuronal\n",
        "\n",
        "model = Sequential()\n",
        "\n",
        "model.add(Dense(12, input_dim=8, activation=\"relu\"))\n",
        "model.add(Dense(8, activation=\"relu\"))\n",
        "model.add(Dense(8, activation=\"relu\"))\n",
        "\n",
        "model.add(Dense(1, activation='sigmoid')) #red neuronal logistica"
      ],
      "metadata": {
        "id": "W3310Zo2eu9P"
      },
      "execution_count": 6,
      "outputs": []
    },
    {
      "cell_type": "code",
      "source": [
        "#Detalles\n",
        "model.summary()"
      ],
      "metadata": {
        "colab": {
          "base_uri": "https://localhost:8080/"
        },
        "id": "jXG9wTtify-2",
        "outputId": "a529eff1-e511-45f1-87c1-cc9675408706"
      },
      "execution_count": 7,
      "outputs": [
        {
          "output_type": "stream",
          "name": "stdout",
          "text": [
            "Model: \"sequential\"\n",
            "_________________________________________________________________\n",
            " Layer (type)                Output Shape              Param #   \n",
            "=================================================================\n",
            " dense (Dense)               (None, 12)                108       \n",
            "                                                                 \n",
            " dense_1 (Dense)             (None, 8)                 104       \n",
            "                                                                 \n",
            " dense_2 (Dense)             (None, 8)                 72        \n",
            "                                                                 \n",
            " dense_3 (Dense)             (None, 1)                 9         \n",
            "                                                                 \n",
            "=================================================================\n",
            "Total params: 293\n",
            "Trainable params: 293\n",
            "Non-trainable params: 0\n",
            "_________________________________________________________________\n"
          ]
        }
      ]
    },
    {
      "cell_type": "code",
      "source": [
        "#Guardar modelo\n",
        "model.compile(\n",
        "    loss='binary_crossentropy',\n",
        "    optimizer='adam',\n",
        "    metrics=['accuracy']\n",
        ")"
      ],
      "metadata": {
        "id": "ibFA2zcmg_BZ"
      },
      "execution_count": 8,
      "outputs": []
    },
    {
      "cell_type": "code",
      "source": [
        "#Entrenamiento\n",
        "\n",
        "historial = model.fit(\n",
        "    X.values,\n",
        "    y.values,\n",
        "    epochs=150,\n",
        "    verbose=2\n",
        ")"
      ],
      "metadata": {
        "colab": {
          "base_uri": "https://localhost:8080/"
        },
        "id": "IG2o5mIphO-T",
        "outputId": "c593b815-ee97-4bbf-e198-d5279e3748bc"
      },
      "execution_count": 9,
      "outputs": [
        {
          "output_type": "stream",
          "name": "stdout",
          "text": [
            "Epoch 1/150\n",
            "24/24 - 2s - loss: 3.1806 - accuracy: 0.5677 - 2s/epoch - 73ms/step\n",
            "Epoch 2/150\n",
            "24/24 - 0s - loss: 1.5530 - accuracy: 0.5352 - 121ms/epoch - 5ms/step\n",
            "Epoch 3/150\n",
            "24/24 - 0s - loss: 1.1375 - accuracy: 0.5495 - 163ms/epoch - 7ms/step\n",
            "Epoch 4/150\n",
            "24/24 - 0s - loss: 0.8997 - accuracy: 0.5872 - 91ms/epoch - 4ms/step\n",
            "Epoch 5/150\n",
            "24/24 - 0s - loss: 0.8092 - accuracy: 0.6081 - 75ms/epoch - 3ms/step\n",
            "Epoch 6/150\n",
            "24/24 - 0s - loss: 0.7374 - accuracy: 0.6328 - 98ms/epoch - 4ms/step\n",
            "Epoch 7/150\n",
            "24/24 - 0s - loss: 0.7162 - accuracy: 0.6250 - 90ms/epoch - 4ms/step\n",
            "Epoch 8/150\n",
            "24/24 - 0s - loss: 0.6840 - accuracy: 0.6354 - 127ms/epoch - 5ms/step\n",
            "Epoch 9/150\n",
            "24/24 - 0s - loss: 0.6783 - accuracy: 0.6276 - 124ms/epoch - 5ms/step\n",
            "Epoch 10/150\n",
            "24/24 - 0s - loss: 0.6548 - accuracy: 0.6406 - 94ms/epoch - 4ms/step\n",
            "Epoch 11/150\n",
            "24/24 - 0s - loss: 0.6556 - accuracy: 0.6432 - 113ms/epoch - 5ms/step\n",
            "Epoch 12/150\n",
            "24/24 - 0s - loss: 0.6564 - accuracy: 0.6445 - 81ms/epoch - 3ms/step\n",
            "Epoch 13/150\n",
            "24/24 - 0s - loss: 0.6447 - accuracy: 0.6576 - 84ms/epoch - 4ms/step\n",
            "Epoch 14/150\n",
            "24/24 - 0s - loss: 0.6344 - accuracy: 0.6497 - 49ms/epoch - 2ms/step\n",
            "Epoch 15/150\n",
            "24/24 - 0s - loss: 0.6281 - accuracy: 0.6719 - 122ms/epoch - 5ms/step\n",
            "Epoch 16/150\n",
            "24/24 - 0s - loss: 0.6238 - accuracy: 0.6562 - 67ms/epoch - 3ms/step\n",
            "Epoch 17/150\n",
            "24/24 - 0s - loss: 0.6191 - accuracy: 0.6602 - 72ms/epoch - 3ms/step\n",
            "Epoch 18/150\n",
            "24/24 - 0s - loss: 0.6188 - accuracy: 0.6732 - 155ms/epoch - 6ms/step\n",
            "Epoch 19/150\n",
            "24/24 - 0s - loss: 0.6242 - accuracy: 0.6549 - 183ms/epoch - 8ms/step\n",
            "Epoch 20/150\n",
            "24/24 - 0s - loss: 0.6155 - accuracy: 0.6745 - 215ms/epoch - 9ms/step\n",
            "Epoch 21/150\n",
            "24/24 - 0s - loss: 0.6062 - accuracy: 0.6667 - 161ms/epoch - 7ms/step\n",
            "Epoch 22/150\n",
            "24/24 - 0s - loss: 0.6088 - accuracy: 0.6693 - 83ms/epoch - 3ms/step\n",
            "Epoch 23/150\n",
            "24/24 - 0s - loss: 0.6087 - accuracy: 0.6706 - 102ms/epoch - 4ms/step\n",
            "Epoch 24/150\n",
            "24/24 - 0s - loss: 0.6058 - accuracy: 0.6667 - 130ms/epoch - 5ms/step\n",
            "Epoch 25/150\n",
            "24/24 - 0s - loss: 0.6082 - accuracy: 0.6732 - 90ms/epoch - 4ms/step\n",
            "Epoch 26/150\n",
            "24/24 - 0s - loss: 0.6165 - accuracy: 0.6732 - 127ms/epoch - 5ms/step\n",
            "Epoch 27/150\n",
            "24/24 - 0s - loss: 0.5975 - accuracy: 0.6914 - 54ms/epoch - 2ms/step\n",
            "Epoch 28/150\n",
            "24/24 - 0s - loss: 0.5974 - accuracy: 0.6862 - 116ms/epoch - 5ms/step\n",
            "Epoch 29/150\n",
            "24/24 - 0s - loss: 0.5988 - accuracy: 0.6927 - 90ms/epoch - 4ms/step\n",
            "Epoch 30/150\n",
            "24/24 - 0s - loss: 0.5915 - accuracy: 0.6940 - 120ms/epoch - 5ms/step\n",
            "Epoch 31/150\n",
            "24/24 - 0s - loss: 0.5934 - accuracy: 0.6784 - 62ms/epoch - 3ms/step\n",
            "Epoch 32/150\n",
            "24/24 - 0s - loss: 0.6008 - accuracy: 0.6875 - 73ms/epoch - 3ms/step\n",
            "Epoch 33/150\n",
            "24/24 - 0s - loss: 0.5946 - accuracy: 0.6914 - 64ms/epoch - 3ms/step\n",
            "Epoch 34/150\n",
            "24/24 - 0s - loss: 0.5979 - accuracy: 0.6823 - 54ms/epoch - 2ms/step\n",
            "Epoch 35/150\n",
            "24/24 - 0s - loss: 0.5830 - accuracy: 0.6927 - 101ms/epoch - 4ms/step\n",
            "Epoch 36/150\n",
            "24/24 - 0s - loss: 0.5843 - accuracy: 0.6914 - 84ms/epoch - 3ms/step\n",
            "Epoch 37/150\n",
            "24/24 - 0s - loss: 0.5779 - accuracy: 0.6849 - 59ms/epoch - 2ms/step\n",
            "Epoch 38/150\n",
            "24/24 - 0s - loss: 0.5796 - accuracy: 0.6901 - 51ms/epoch - 2ms/step\n",
            "Epoch 39/150\n",
            "24/24 - 0s - loss: 0.5803 - accuracy: 0.6888 - 51ms/epoch - 2ms/step\n",
            "Epoch 40/150\n",
            "24/24 - 0s - loss: 0.5782 - accuracy: 0.7005 - 53ms/epoch - 2ms/step\n",
            "Epoch 41/150\n",
            "24/24 - 0s - loss: 0.5784 - accuracy: 0.6823 - 81ms/epoch - 3ms/step\n",
            "Epoch 42/150\n",
            "24/24 - 0s - loss: 0.5761 - accuracy: 0.6992 - 76ms/epoch - 3ms/step\n",
            "Epoch 43/150\n",
            "24/24 - 0s - loss: 0.5738 - accuracy: 0.6966 - 60ms/epoch - 3ms/step\n",
            "Epoch 44/150\n",
            "24/24 - 0s - loss: 0.5737 - accuracy: 0.6862 - 86ms/epoch - 4ms/step\n",
            "Epoch 45/150\n",
            "24/24 - 0s - loss: 0.5653 - accuracy: 0.7135 - 84ms/epoch - 3ms/step\n",
            "Epoch 46/150\n",
            "24/24 - 0s - loss: 0.5807 - accuracy: 0.6914 - 68ms/epoch - 3ms/step\n",
            "Epoch 47/150\n",
            "24/24 - 0s - loss: 0.5785 - accuracy: 0.6979 - 48ms/epoch - 2ms/step\n",
            "Epoch 48/150\n",
            "24/24 - 0s - loss: 0.5656 - accuracy: 0.7174 - 52ms/epoch - 2ms/step\n",
            "Epoch 49/150\n",
            "24/24 - 0s - loss: 0.5680 - accuracy: 0.7266 - 68ms/epoch - 3ms/step\n",
            "Epoch 50/150\n",
            "24/24 - 0s - loss: 0.5765 - accuracy: 0.6914 - 57ms/epoch - 2ms/step\n",
            "Epoch 51/150\n",
            "24/24 - 0s - loss: 0.5644 - accuracy: 0.7083 - 54ms/epoch - 2ms/step\n",
            "Epoch 52/150\n",
            "24/24 - 0s - loss: 0.5595 - accuracy: 0.7083 - 92ms/epoch - 4ms/step\n",
            "Epoch 53/150\n",
            "24/24 - 0s - loss: 0.5630 - accuracy: 0.7005 - 88ms/epoch - 4ms/step\n",
            "Epoch 54/150\n",
            "24/24 - 0s - loss: 0.5572 - accuracy: 0.7057 - 115ms/epoch - 5ms/step\n",
            "Epoch 55/150\n",
            "24/24 - 0s - loss: 0.5682 - accuracy: 0.7083 - 65ms/epoch - 3ms/step\n",
            "Epoch 56/150\n",
            "24/24 - 0s - loss: 0.5601 - accuracy: 0.7031 - 122ms/epoch - 5ms/step\n",
            "Epoch 57/150\n",
            "24/24 - 0s - loss: 0.5566 - accuracy: 0.7109 - 79ms/epoch - 3ms/step\n",
            "Epoch 58/150\n",
            "24/24 - 0s - loss: 0.5504 - accuracy: 0.7227 - 70ms/epoch - 3ms/step\n",
            "Epoch 59/150\n",
            "24/24 - 0s - loss: 0.5647 - accuracy: 0.7070 - 69ms/epoch - 3ms/step\n",
            "Epoch 60/150\n",
            "24/24 - 0s - loss: 0.5559 - accuracy: 0.7122 - 73ms/epoch - 3ms/step\n",
            "Epoch 61/150\n",
            "24/24 - 0s - loss: 0.5545 - accuracy: 0.7148 - 93ms/epoch - 4ms/step\n",
            "Epoch 62/150\n",
            "24/24 - 0s - loss: 0.5472 - accuracy: 0.7214 - 140ms/epoch - 6ms/step\n",
            "Epoch 63/150\n",
            "24/24 - 0s - loss: 0.5499 - accuracy: 0.7227 - 102ms/epoch - 4ms/step\n",
            "Epoch 64/150\n",
            "24/24 - 0s - loss: 0.5498 - accuracy: 0.7357 - 90ms/epoch - 4ms/step\n",
            "Epoch 65/150\n",
            "24/24 - 0s - loss: 0.5560 - accuracy: 0.7266 - 62ms/epoch - 3ms/step\n",
            "Epoch 66/150\n",
            "24/24 - 0s - loss: 0.5514 - accuracy: 0.7201 - 69ms/epoch - 3ms/step\n",
            "Epoch 67/150\n",
            "24/24 - 0s - loss: 0.5615 - accuracy: 0.7161 - 70ms/epoch - 3ms/step\n",
            "Epoch 68/150\n",
            "24/24 - 0s - loss: 0.5566 - accuracy: 0.7057 - 80ms/epoch - 3ms/step\n",
            "Epoch 69/150\n",
            "24/24 - 0s - loss: 0.5641 - accuracy: 0.6966 - 84ms/epoch - 3ms/step\n",
            "Epoch 70/150\n",
            "24/24 - 0s - loss: 0.5452 - accuracy: 0.7227 - 78ms/epoch - 3ms/step\n",
            "Epoch 71/150\n",
            "24/24 - 0s - loss: 0.5466 - accuracy: 0.7161 - 56ms/epoch - 2ms/step\n",
            "Epoch 72/150\n",
            "24/24 - 0s - loss: 0.5511 - accuracy: 0.7188 - 63ms/epoch - 3ms/step\n",
            "Epoch 73/150\n",
            "24/24 - 0s - loss: 0.5397 - accuracy: 0.7305 - 71ms/epoch - 3ms/step\n",
            "Epoch 74/150\n",
            "24/24 - 0s - loss: 0.5420 - accuracy: 0.7383 - 70ms/epoch - 3ms/step\n",
            "Epoch 75/150\n",
            "24/24 - 0s - loss: 0.5373 - accuracy: 0.7253 - 61ms/epoch - 3ms/step\n",
            "Epoch 76/150\n",
            "24/24 - 0s - loss: 0.5384 - accuracy: 0.7383 - 99ms/epoch - 4ms/step\n",
            "Epoch 77/150\n",
            "24/24 - 0s - loss: 0.5435 - accuracy: 0.7253 - 76ms/epoch - 3ms/step\n",
            "Epoch 78/150\n",
            "24/24 - 0s - loss: 0.5479 - accuracy: 0.7305 - 89ms/epoch - 4ms/step\n",
            "Epoch 79/150\n",
            "24/24 - 0s - loss: 0.5363 - accuracy: 0.7409 - 80ms/epoch - 3ms/step\n",
            "Epoch 80/150\n",
            "24/24 - 0s - loss: 0.5423 - accuracy: 0.7253 - 97ms/epoch - 4ms/step\n",
            "Epoch 81/150\n",
            "24/24 - 0s - loss: 0.5326 - accuracy: 0.7279 - 97ms/epoch - 4ms/step\n",
            "Epoch 82/150\n",
            "24/24 - 0s - loss: 0.5461 - accuracy: 0.7188 - 67ms/epoch - 3ms/step\n",
            "Epoch 83/150\n",
            "24/24 - 0s - loss: 0.5316 - accuracy: 0.7344 - 79ms/epoch - 3ms/step\n",
            "Epoch 84/150\n",
            "24/24 - 0s - loss: 0.5289 - accuracy: 0.7370 - 63ms/epoch - 3ms/step\n",
            "Epoch 85/150\n",
            "24/24 - 0s - loss: 0.5293 - accuracy: 0.7344 - 60ms/epoch - 2ms/step\n",
            "Epoch 86/150\n",
            "24/24 - 0s - loss: 0.5403 - accuracy: 0.7292 - 62ms/epoch - 3ms/step\n",
            "Epoch 87/150\n",
            "24/24 - 0s - loss: 0.5385 - accuracy: 0.7318 - 64ms/epoch - 3ms/step\n",
            "Epoch 88/150\n",
            "24/24 - 0s - loss: 0.5472 - accuracy: 0.7214 - 86ms/epoch - 4ms/step\n",
            "Epoch 89/150\n",
            "24/24 - 0s - loss: 0.5251 - accuracy: 0.7318 - 115ms/epoch - 5ms/step\n",
            "Epoch 90/150\n",
            "24/24 - 0s - loss: 0.5363 - accuracy: 0.7305 - 114ms/epoch - 5ms/step\n",
            "Epoch 91/150\n",
            "24/24 - 0s - loss: 0.5261 - accuracy: 0.7344 - 65ms/epoch - 3ms/step\n",
            "Epoch 92/150\n",
            "24/24 - 0s - loss: 0.5330 - accuracy: 0.7318 - 170ms/epoch - 7ms/step\n",
            "Epoch 93/150\n",
            "24/24 - 0s - loss: 0.5223 - accuracy: 0.7448 - 159ms/epoch - 7ms/step\n",
            "Epoch 94/150\n",
            "24/24 - 0s - loss: 0.5228 - accuracy: 0.7396 - 104ms/epoch - 4ms/step\n",
            "Epoch 95/150\n",
            "24/24 - 0s - loss: 0.5297 - accuracy: 0.7422 - 118ms/epoch - 5ms/step\n",
            "Epoch 96/150\n",
            "24/24 - 0s - loss: 0.5243 - accuracy: 0.7526 - 173ms/epoch - 7ms/step\n",
            "Epoch 97/150\n",
            "24/24 - 0s - loss: 0.5307 - accuracy: 0.7344 - 153ms/epoch - 6ms/step\n",
            "Epoch 98/150\n",
            "24/24 - 0s - loss: 0.5193 - accuracy: 0.7487 - 162ms/epoch - 7ms/step\n",
            "Epoch 99/150\n",
            "24/24 - 0s - loss: 0.5191 - accuracy: 0.7513 - 151ms/epoch - 6ms/step\n",
            "Epoch 100/150\n",
            "24/24 - 0s - loss: 0.5217 - accuracy: 0.7448 - 107ms/epoch - 4ms/step\n",
            "Epoch 101/150\n",
            "24/24 - 0s - loss: 0.5227 - accuracy: 0.7383 - 40ms/epoch - 2ms/step\n",
            "Epoch 102/150\n",
            "24/24 - 0s - loss: 0.5243 - accuracy: 0.7604 - 37ms/epoch - 2ms/step\n",
            "Epoch 103/150\n",
            "24/24 - 0s - loss: 0.5314 - accuracy: 0.7214 - 50ms/epoch - 2ms/step\n",
            "Epoch 104/150\n",
            "24/24 - 0s - loss: 0.5208 - accuracy: 0.7526 - 37ms/epoch - 2ms/step\n",
            "Epoch 105/150\n",
            "24/24 - 0s - loss: 0.5299 - accuracy: 0.7305 - 36ms/epoch - 2ms/step\n",
            "Epoch 106/150\n",
            "24/24 - 0s - loss: 0.5202 - accuracy: 0.7474 - 35ms/epoch - 1ms/step\n",
            "Epoch 107/150\n",
            "24/24 - 0s - loss: 0.5175 - accuracy: 0.7318 - 52ms/epoch - 2ms/step\n",
            "Epoch 108/150\n",
            "24/24 - 0s - loss: 0.5157 - accuracy: 0.7552 - 49ms/epoch - 2ms/step\n",
            "Epoch 109/150\n",
            "24/24 - 0s - loss: 0.5235 - accuracy: 0.7357 - 38ms/epoch - 2ms/step\n",
            "Epoch 110/150\n",
            "24/24 - 0s - loss: 0.5185 - accuracy: 0.7552 - 39ms/epoch - 2ms/step\n",
            "Epoch 111/150\n",
            "24/24 - 0s - loss: 0.5141 - accuracy: 0.7500 - 36ms/epoch - 1ms/step\n",
            "Epoch 112/150\n",
            "24/24 - 0s - loss: 0.5142 - accuracy: 0.7474 - 47ms/epoch - 2ms/step\n",
            "Epoch 113/150\n",
            "24/24 - 0s - loss: 0.5124 - accuracy: 0.7591 - 45ms/epoch - 2ms/step\n",
            "Epoch 114/150\n",
            "24/24 - 0s - loss: 0.5169 - accuracy: 0.7500 - 38ms/epoch - 2ms/step\n",
            "Epoch 115/150\n",
            "24/24 - 0s - loss: 0.5189 - accuracy: 0.7409 - 46ms/epoch - 2ms/step\n",
            "Epoch 116/150\n",
            "24/24 - 0s - loss: 0.5343 - accuracy: 0.7344 - 40ms/epoch - 2ms/step\n",
            "Epoch 117/150\n",
            "24/24 - 0s - loss: 0.5164 - accuracy: 0.7409 - 42ms/epoch - 2ms/step\n",
            "Epoch 118/150\n",
            "24/24 - 0s - loss: 0.5061 - accuracy: 0.7552 - 49ms/epoch - 2ms/step\n",
            "Epoch 119/150\n",
            "24/24 - 0s - loss: 0.5136 - accuracy: 0.7643 - 41ms/epoch - 2ms/step\n",
            "Epoch 120/150\n",
            "24/24 - 0s - loss: 0.5094 - accuracy: 0.7500 - 44ms/epoch - 2ms/step\n",
            "Epoch 121/150\n",
            "24/24 - 0s - loss: 0.5114 - accuracy: 0.7604 - 41ms/epoch - 2ms/step\n",
            "Epoch 122/150\n",
            "24/24 - 0s - loss: 0.5157 - accuracy: 0.7474 - 42ms/epoch - 2ms/step\n",
            "Epoch 123/150\n",
            "24/24 - 0s - loss: 0.5069 - accuracy: 0.7591 - 40ms/epoch - 2ms/step\n",
            "Epoch 124/150\n",
            "24/24 - 0s - loss: 0.5166 - accuracy: 0.7474 - 42ms/epoch - 2ms/step\n",
            "Epoch 125/150\n",
            "24/24 - 0s - loss: 0.5061 - accuracy: 0.7526 - 35ms/epoch - 1ms/step\n",
            "Epoch 126/150\n",
            "24/24 - 0s - loss: 0.5077 - accuracy: 0.7500 - 40ms/epoch - 2ms/step\n",
            "Epoch 127/150\n",
            "24/24 - 0s - loss: 0.5061 - accuracy: 0.7565 - 45ms/epoch - 2ms/step\n",
            "Epoch 128/150\n",
            "24/24 - 0s - loss: 0.5050 - accuracy: 0.7526 - 43ms/epoch - 2ms/step\n",
            "Epoch 129/150\n",
            "24/24 - 0s - loss: 0.5108 - accuracy: 0.7422 - 39ms/epoch - 2ms/step\n",
            "Epoch 130/150\n",
            "24/24 - 0s - loss: 0.5146 - accuracy: 0.7617 - 40ms/epoch - 2ms/step\n",
            "Epoch 131/150\n",
            "24/24 - 0s - loss: 0.5022 - accuracy: 0.7526 - 38ms/epoch - 2ms/step\n",
            "Epoch 132/150\n",
            "24/24 - 0s - loss: 0.5230 - accuracy: 0.7487 - 37ms/epoch - 2ms/step\n",
            "Epoch 133/150\n",
            "24/24 - 0s - loss: 0.5132 - accuracy: 0.7565 - 38ms/epoch - 2ms/step\n",
            "Epoch 134/150\n",
            "24/24 - 0s - loss: 0.5076 - accuracy: 0.7474 - 43ms/epoch - 2ms/step\n",
            "Epoch 135/150\n",
            "24/24 - 0s - loss: 0.5042 - accuracy: 0.7461 - 42ms/epoch - 2ms/step\n",
            "Epoch 136/150\n",
            "24/24 - 0s - loss: 0.5117 - accuracy: 0.7539 - 39ms/epoch - 2ms/step\n",
            "Epoch 137/150\n",
            "24/24 - 0s - loss: 0.5018 - accuracy: 0.7461 - 38ms/epoch - 2ms/step\n",
            "Epoch 138/150\n",
            "24/24 - 0s - loss: 0.5170 - accuracy: 0.7253 - 44ms/epoch - 2ms/step\n",
            "Epoch 139/150\n",
            "24/24 - 0s - loss: 0.5117 - accuracy: 0.7487 - 48ms/epoch - 2ms/step\n",
            "Epoch 140/150\n",
            "24/24 - 0s - loss: 0.5023 - accuracy: 0.7734 - 41ms/epoch - 2ms/step\n",
            "Epoch 141/150\n",
            "24/24 - 0s - loss: 0.5053 - accuracy: 0.7682 - 42ms/epoch - 2ms/step\n",
            "Epoch 142/150\n",
            "24/24 - 0s - loss: 0.4990 - accuracy: 0.7591 - 44ms/epoch - 2ms/step\n",
            "Epoch 143/150\n",
            "24/24 - 0s - loss: 0.5034 - accuracy: 0.7604 - 51ms/epoch - 2ms/step\n",
            "Epoch 144/150\n",
            "24/24 - 0s - loss: 0.5094 - accuracy: 0.7422 - 48ms/epoch - 2ms/step\n",
            "Epoch 145/150\n",
            "24/24 - 0s - loss: 0.5041 - accuracy: 0.7578 - 49ms/epoch - 2ms/step\n",
            "Epoch 146/150\n",
            "24/24 - 0s - loss: 0.4982 - accuracy: 0.7578 - 55ms/epoch - 2ms/step\n",
            "Epoch 147/150\n",
            "24/24 - 0s - loss: 0.4976 - accuracy: 0.7656 - 49ms/epoch - 2ms/step\n",
            "Epoch 148/150\n",
            "24/24 - 0s - loss: 0.5044 - accuracy: 0.7565 - 49ms/epoch - 2ms/step\n",
            "Epoch 149/150\n",
            "24/24 - 0s - loss: 0.5118 - accuracy: 0.7370 - 53ms/epoch - 2ms/step\n",
            "Epoch 150/150\n",
            "24/24 - 0s - loss: 0.4951 - accuracy: 0.7695 - 43ms/epoch - 2ms/step\n"
          ]
        }
      ]
    },
    {
      "cell_type": "code",
      "source": [
        "#Grafica de perdida\n",
        "plt.plot(historial.history['loss'])\n",
        "plt.show()"
      ],
      "metadata": {
        "colab": {
          "base_uri": "https://localhost:8080/",
          "height": 265
        },
        "id": "Ycy1sMpdh4D_",
        "outputId": "bac1c153-bb37-43d0-82ad-cf5967a02571"
      },
      "execution_count": 10,
      "outputs": [
        {
          "output_type": "display_data",
          "data": {
            "text/plain": [
              "<Figure size 432x288 with 1 Axes>"
            ],
            "image/png": "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\n"
          },
          "metadata": {
            "needs_background": "light"
          }
        }
      ]
    },
    {
      "cell_type": "code",
      "source": [
        "#Grafica de mejora de prediccion\n",
        "plt.plot(historial.history['accuracy'])\n",
        "plt.show()"
      ],
      "metadata": {
        "colab": {
          "base_uri": "https://localhost:8080/",
          "height": 265
        },
        "id": "UcgmLEWUiwSg",
        "outputId": "e4455157-3db2-4620-8bbb-8f895d14972f"
      },
      "execution_count": 11,
      "outputs": [
        {
          "output_type": "display_data",
          "data": {
            "text/plain": [
              "<Figure size 432x288 with 1 Axes>"
            ],
            "image/png": "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\n"
          },
          "metadata": {
            "needs_background": "light"
          }
        }
      ]
    }
  ]
}
